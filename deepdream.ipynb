{
 "cells": [
  {
   "cell_type": "code",
   "execution_count": 1,
   "id": "a353f564-9d55-49c1-af93-5039363fe54e",
   "metadata": {},
   "outputs": [],
   "source": [
    "import torch\n",
    "import torch.nn as nn\n",
    "import torch.optim as optim\n",
    "from torchvision import models, transforms, datasets\n",
    "from torch.utils.data import DataLoader\n",
    "from PIL import Image\n",
    "\n",
    "import numpy as np\n",
    "import matplotlib.pyplot as plt\n",
    "from sklearn.metrics import confusion_matrix\n",
    "import seaborn as sns"
   ]
  },
  {
   "cell_type": "code",
   "execution_count": 2,
   "id": "92dbf223-3ec4-4071-b930-5fed8a454832",
   "metadata": {},
   "outputs": [],
   "source": [
    "class InceptionV3(nn.Module):\n",
    "    def __init__(self, num_classes=2, aux_logits=False, transform_input=False):\n",
    "        super(InceptionV3, self).__init__()\n",
    "        self.inception = models.inception_v3(pretrained=False, num_classes=num_classes, aux_logits=aux_logits, transform_input=transform_input)\n",
    "\n",
    "    def forward(self, x):\n",
    "        return self.inception(x)"
   ]
  },
  {
   "cell_type": "code",
   "execution_count": 3,
   "id": "494e3759-edfa-4fc4-9782-e0068e8e9aa5",
   "metadata": {},
   "outputs": [],
   "source": [
    "# Define the DeepDream model\n",
    "class DeepDream(nn.Module):\n",
    "    def __init__(self, model, layer_idx):\n",
    "        super(DeepDream, self).__init__()\n",
    "        self.features = self.get_required_layers(model, layer_idx)\n",
    "\n",
    "    def forward(self, x):\n",
    "        return self.features(x)\n",
    "\n",
    "    def get_required_layers(self, model, layer_idx):\n",
    "        # Extract the desired layers from the InceptionV3 model\n",
    "        if isinstance(model, InceptionV3):\n",
    "            # InceptionV3 has multiple branches, so we need to extract from a specific submodule\n",
    "            return nn.Sequential(*list(model.inception.children())[:layer_idx+1])\n",
    "        elif isinstance(model, nn.Module):\n",
    "            return model  # For simplicity, using the entire model\n",
    "        else:\n",
    "            raise ValueError(\"Unsupported model type\")"
   ]
  },
  {
   "cell_type": "code",
   "execution_count": 4,
   "id": "0e945b49-a78f-456c-8687-2bd345e4f0eb",
   "metadata": {},
   "outputs": [],
   "source": [
    "def deep_dream(image_tensor, model, layer_idx, iterations, lr, octave_scale, output_path):\n",
    "    # Convert image tensor to nn.Parameter\n",
    "    img = nn.Parameter(image_tensor.to(device))\n",
    "\n",
    "    # Define the deep dream model\n",
    "    dream_model = DeepDream(model, layer_idx).to(device)\n",
    "\n",
    "    # Define the optimizer\n",
    "    optimizer = optim.Adam([img], lr=lr)\n",
    "\n",
    "    # DeepDream iterations\n",
    "    for i in range(iterations):\n",
    "        optimizer.zero_grad()\n",
    "        features = dream_model(img)\n",
    "        loss = features.norm()\n",
    "        loss.backward()\n",
    "        optimizer.step()\n",
    "\n",
    "        # Apply the octave scaling\n",
    "        img.data = img.data + octave_scale * img.grad.data\n",
    "\n",
    "        # Zero the gradient\n",
    "        img.grad.data.zero_()\n",
    "\n",
    "        # Clip the image values to be in the valid range\n",
    "        img.data = torch.clamp(img.data, 0, 1)\n",
    "\n",
    "    # Save the final deep dream image\n",
    "    result = transforms.ToPILImage()(img.squeeze(0).cpu())\n",
    "    result.save(output_path)"
   ]
  },
  {
   "cell_type": "code",
   "execution_count": 5,
   "id": "f2a44137-1998-4a8b-a44b-b2a28ff317a6",
   "metadata": {},
   "outputs": [],
   "source": [
    "# Set the device\n",
    "device = torch.device(\"cuda\" if torch.cuda.is_available() else \"cpu\")\n",
    "\n",
    "# Specify the layer index for deep dream (you can experiment with different layers)\n",
    "layer_index = 10\n",
    "\n",
    "iterations = 20\n",
    "learning_rate = 0.01\n",
    "octave_scale = 1.4"
   ]
  },
  {
   "cell_type": "code",
   "execution_count": 6,
   "id": "b494bc29-6234-4092-813a-92d5bda68358",
   "metadata": {},
   "outputs": [],
   "source": [
    "train_transform = transforms.Compose([\n",
    "    transforms.Resize((299, 299)),  # Resize images to the same dimensions as expected by InceptionV3\n",
    "    transforms.ToTensor()\n",
    "])\n",
    "\n",
    "test_transform = transforms.Compose([\n",
    "    transforms.Resize((299, 299)),  # Resize images to the same dimensions as expected by InceptionV3\n",
    "    transforms.ToTensor()\n",
    "])"
   ]
  },
  {
   "cell_type": "code",
   "execution_count": 7,
   "id": "69a6aba3-28c0-4c34-8c5a-b7abe0ce3e0d",
   "metadata": {},
   "outputs": [
    {
     "name": "stderr",
     "output_type": "stream",
     "text": [
      "/home/user/.local/lib/python3.10/site-packages/torchvision/models/_utils.py:208: UserWarning: The parameter 'pretrained' is deprecated since 0.13 and may be removed in the future, please use 'weights' instead.\n",
      "  warnings.warn(\n",
      "/home/user/.local/lib/python3.10/site-packages/torchvision/models/_utils.py:223: UserWarning: Arguments other than a weight enum or `None` for 'weights' are deprecated since 0.13 and may be removed in the future. The current behavior is equivalent to passing `weights=None`.\n",
      "  warnings.warn(msg)\n",
      "/home/user/.local/lib/python3.10/site-packages/torchvision/models/inception.py:43: FutureWarning: The default weight initialization of inception_v3 will be changed in future releases of torchvision. If you wish to keep the old behavior (which leads to long initialization times due to scipy/scipy#11299), please set init_weights=True.\n",
      "  warnings.warn(\n"
     ]
    }
   ],
   "source": [
    "model = InceptionV3().to(device)"
   ]
  },
  {
   "cell_type": "code",
   "execution_count": 8,
   "id": "0bf1ee05-7512-4c2e-97e3-f30b0ad6520b",
   "metadata": {},
   "outputs": [],
   "source": [
    "train_dataset = datasets.ImageFolder(root='./data/train', transform=train_transform)\n",
    "test_dataset = datasets.ImageFolder(root='./data/validation', transform=test_transform)"
   ]
  },
  {
   "cell_type": "code",
   "execution_count": 9,
   "id": "e53a73f7-5b01-422a-871e-4566698a1986",
   "metadata": {},
   "outputs": [],
   "source": [
    "train_dataset_deepdream = datasets.ImageFolder(root='./data_deepdream2/train', transform=train_transform)\n",
    "test_dataset_deepdream = datasets.ImageFolder(root='./data_deepdream2/test', transform=test_transform)"
   ]
  },
  {
   "cell_type": "code",
   "execution_count": 10,
   "id": "e941290b-f090-41da-be75-62bfa436129d",
   "metadata": {},
   "outputs": [],
   "source": [
    "train_dataloader = DataLoader(train_dataset_deepdream, batch_size=32, shuffle=True)\n",
    "test_dataloader = DataLoader(test_dataset_deepdream, batch_size=32, shuffle=True)"
   ]
  },
  {
   "cell_type": "code",
   "execution_count": 11,
   "id": "7697ca1c-15fa-44d2-b1cb-a1cbe73e8d4b",
   "metadata": {},
   "outputs": [],
   "source": [
    "def train_loop(dataloader, model, loss_fn, optimizer, device):\n",
    "    model.train()\n",
    "    for X, y in dataloader:\n",
    "        X, y = X.to(device), y.to(device)\n",
    "        preds = model(X)\n",
    "        loss = loss_fn(preds, y)\n",
    "\n",
    "        loss.backward()\n",
    "        optimizer.step()\n",
    "        optimizer.zero_grad()"
   ]
  },
  {
   "cell_type": "code",
   "execution_count": 12,
   "id": "2bdd54c6-5e49-4c5b-8787-9a373bf33c33",
   "metadata": {},
   "outputs": [],
   "source": [
    "def test_loop(dataloader, model, loss_fn, device):\n",
    "    model.eval()\n",
    "    with torch.no_grad():\n",
    "        total_loss = 0\n",
    "        num_same = 0\n",
    "        all_preds = []\n",
    "        all_labels = []\n",
    "        for X, y in dataloader:\n",
    "            X, y = X.to(device), y.to(device)\n",
    "            outputs = model(X)\n",
    "            loss = loss_fn(outputs, y)\n",
    "            total_loss += loss.item()\n",
    "\n",
    "            _, preds = torch.max(outputs, 1)\n",
    "            num_same += (preds == y).sum().item()\n",
    "            all_preds.extend(preds.cpu().numpy())\n",
    "            all_labels.extend(y.cpu().numpy())\n",
    "        \n",
    "        print(f'Average loss: {total_loss / len(dataloader.dataset)}')\n",
    "        print(f'Accuracy: {num_same / len(dataloader.dataset)}')\n",
    "\n",
    "        return num_same / len(dataloader.dataset), all_labels, all_preds"
   ]
  },
  {
   "cell_type": "code",
   "execution_count": 13,
   "id": "0b9f6d2c-3211-442f-917f-29f034ed641d",
   "metadata": {},
   "outputs": [
    {
     "name": "stdout",
     "output_type": "stream",
     "text": [
      "Epoch 1/10\n",
      "Average loss: 0.05413594299554825\n",
      "Accuracy: 0.606\n",
      "Epoch 2/10\n",
      "Average loss: 0.5493896355628968\n",
      "Accuracy: 0.6\n",
      "Epoch 3/10\n",
      "Average loss: 0.02455387842655182\n",
      "Accuracy: 0.629\n",
      "Epoch 4/10\n",
      "Average loss: 0.02431253603100777\n",
      "Accuracy: 0.647\n",
      "Epoch 5/10\n",
      "Average loss: 0.05862761753797531\n",
      "Accuracy: 0.582\n",
      "Epoch 6/10\n",
      "Average loss: 0.026258367836475373\n",
      "Accuracy: 0.599\n",
      "Epoch 7/10\n",
      "Average loss: 0.03613033881783485\n",
      "Accuracy: 0.649\n",
      "Epoch 8/10\n",
      "Average loss: 0.022778581202030183\n",
      "Accuracy: 0.662\n",
      "Epoch 9/10\n",
      "Average loss: 0.026661975860595703\n",
      "Accuracy: 0.634\n",
      "Epoch 10/10\n",
      "Average loss: 0.0291780826151371\n",
      "Accuracy: 0.607\n",
      "Best Accuracy: 0.662\n"
     ]
    }
   ],
   "source": [
    "loss_fn = nn.CrossEntropyLoss()\n",
    "optimizer = optim.Adam(model.parameters())\n",
    "model.to(device)\n",
    "\n",
    "num_epochs = 10\n",
    "best_accuracy = 0.0\n",
    "best_labels = None\n",
    "best_preds = None\n",
    "\n",
    "for epoch in range(num_epochs):\n",
    "    print(f\"Epoch {epoch+1}/{num_epochs}\")\n",
    "    train_loop(train_dataloader, model, loss_fn, optimizer, device)\n",
    "    accuracy, all_labels, all_preds = test_loop(test_dataloader, model, loss_fn, device)\n",
    "    \n",
    "    if accuracy > best_accuracy:\n",
    "        best_accuracy = accuracy\n",
    "        best_labels = all_labels\n",
    "        best_preds = all_preds\n",
    "\n",
    "print(f'Best Accuracy: {best_accuracy}')"
   ]
  },
  {
   "cell_type": "code",
   "execution_count": 14,
   "id": "8519671f-0bbf-4b0f-bd06-d2309ac12878",
   "metadata": {},
   "outputs": [
    {
     "data": {
      "image/png": "[encoded data removed]",
      "text/plain": [
       "<Figure size 500x400 with 2 Axes>"
      ]
     },
     "metadata": {},
     "output_type": "display_data"
    }
   ],
   "source": [
    "conf_matrix = confusion_matrix(best_labels, best_preds)\n",
    "plt.figure(figsize=(5, 4))\n",
    "sns.heatmap(conf_matrix, annot=True, fmt='d', cmap='Blues')\n",
    "plt.xlabel('Predicted')\n",
    "plt.ylabel('True')\n",
    "plt.title('Confusion Matrix')\n",
    "plt.show()"
   ]
  }
 ],
 "metadata": {
  "kernelspec": {
   "display_name": "Python 3 (ipykernel)",
   "language": "python",
   "name": "python3"
  },
  "language_info": {
   "codemirror_mode": {
    "name": "ipython",
    "version": 3
   },
   "file_extension": ".py",
   "mimetype": "text/x-python",
   "name": "python",
   "nbconvert_exporter": "python",
   "pygments_lexer": "ipython3",
   "version": "3.10.12"
  }
 },
 "nbformat": 4,
 "nbformat_minor": 5
}
