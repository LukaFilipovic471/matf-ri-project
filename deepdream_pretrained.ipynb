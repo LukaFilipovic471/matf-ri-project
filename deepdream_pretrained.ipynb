{
 "cells": [
  {
   "cell_type": "code",
   "execution_count": 1,
   "id": "3a32a06d-b637-4457-a4bd-d73b4478a3e0",
   "metadata": {},
   "outputs": [],
   "source": [
    "import torch\n",
    "import torch.nn as nn\n",
    "import torch.optim as optim\n",
    "from torchvision import models, transforms, datasets\n",
    "from torch.utils.data import DataLoader\n",
    "from torchvision.models.inception import InceptionOutputs\n",
    "from PIL import Image\n",
    "\n",
    "import numpy as np\n",
    "import matplotlib.pyplot as plt\n",
    "from sklearn.metrics import confusion_matrix\n",
    "import seaborn as sns"
   ]
  },
  {
   "cell_type": "code",
   "execution_count": 2,
   "id": "7eae0a37-cca5-4653-861b-b73bdc081698",
   "metadata": {},
   "outputs": [],
   "source": [
    "class DeepDream(nn.Module):\n",
    "    def __init__(self, model, layer_idx):\n",
    "        super(DeepDream, self).__init__()\n",
    "        self.features = self.get_required_layers(model, layer_idx)\n",
    "\n",
    "    def forward(self, x):\n",
    "        return self.features(x)\n",
    "\n",
    "    def get_required_layers(self, model, layer_idx):\n",
    "        if isinstance(model, nn.Sequential):\n",
    "            return nn.Sequential(*list(model.children())[:layer_idx+1])\n",
    "        elif isinstance(model, nn.Module):\n",
    "            return model  # You might need to adjust this depending on the structure of your model\n",
    "        else:\n",
    "            raise ValueError(\"Unsupported model type\")"
   ]
  },
  {
   "cell_type": "code",
   "execution_count": 3,
   "id": "0cfc0be0-b234-4140-8435-94f3ce523e08",
   "metadata": {},
   "outputs": [],
   "source": [
    "def deep_dream(image_tensor, model, layer_idx, iterations, lr, octave_scale, output_path):\n",
    "    # Convert image tensor to nn.Parameter\n",
    "    img = nn.Parameter(image_tensor.to(device))\n",
    "\n",
    "    # Define the deep dream model\n",
    "    dream_model = DeepDream(model, layer_idx).to(device)\n",
    "    \n",
    "    # Define the optimizer\n",
    "    optimizer = optim.Adam([img], lr=lr)\n",
    "    \n",
    "    # DeepDream iterations\n",
    "    for i in range(iterations):\n",
    "        optimizer.zero_grad()\n",
    "        features = dream_model(img)\n",
    "        loss = features.norm()\n",
    "        loss.backward()\n",
    "        optimizer.step()\n",
    "    \n",
    "        # Apply the octave scaling\n",
    "        img.data = img.data + octave_scale * img.grad.data\n",
    "    \n",
    "        # Zero the gradient\n",
    "        img.grad.data.zero_()\n",
    "    \n",
    "        # Clip the image values to be in the valid range\n",
    "        img.data = torch.clamp(img.data, 0, 1)\n",
    "    \n",
    "    # Save the final deep dream image\n",
    "    result = transforms.ToPILImage()(img.squeeze(0).cpu())\n",
    "    result.save(output_path)"
   ]
  },
  {
   "cell_type": "code",
   "execution_count": 4,
   "id": "271f046f-766a-427f-9638-a64a8eb15de4",
   "metadata": {},
   "outputs": [],
   "source": [
    "# Set the device\n",
    "device = torch.device(\"cuda\" if torch.cuda.is_available() else \"cpu\")\n",
    "\n",
    "# Specify the layer index for deep dream (you can experiment with different layers)\n",
    "layer_index = 10\n",
    "\n",
    "iterations = 20\n",
    "learning_rate = 0.01\n",
    "octave_scale = 1.4"
   ]
  },
  {
   "cell_type": "code",
   "execution_count": 5,
   "id": "b8fc92cf-a96a-4cb5-a4b7-cd1e32782675",
   "metadata": {},
   "outputs": [],
   "source": [
    "train_transform = transforms.Compose([\n",
    "    transforms.Resize((299, 299)),  # Resize images to the same dimensions as expected by InceptionV3\n",
    "    transforms.ToTensor()\n",
    "])\n",
    "\n",
    "test_transform = transforms.Compose([\n",
    "    transforms.Resize((299, 299)),  # Resize images to the same dimensions as expected by InceptionV3\n",
    "    transforms.ToTensor()\n",
    "])"
   ]
  },
  {
   "cell_type": "code",
   "execution_count": 6,
   "id": "a23c107a-915d-4008-b7ab-7ba84dc0915a",
   "metadata": {},
   "outputs": [
    {
     "name": "stderr",
     "output_type": "stream",
     "text": [
      "/home/user/.local/lib/python3.10/site-packages/torchvision/models/_utils.py:208: UserWarning: The parameter 'pretrained' is deprecated since 0.13 and may be removed in the future, please use 'weights' instead.\n",
      "  warnings.warn(\n",
      "/home/user/.local/lib/python3.10/site-packages/torchvision/models/_utils.py:223: UserWarning: Arguments other than a weight enum or `None` for 'weights' are deprecated since 0.13 and may be removed in the future. The current behavior is equivalent to passing `weights=Inception_V3_Weights.IMAGENET1K_V1`. You can also use `weights=Inception_V3_Weights.DEFAULT` to get the most up-to-date weights.\n",
      "  warnings.warn(msg)\n"
     ]
    }
   ],
   "source": [
    "model = models.inception_v3(pretrained=True).eval().to(device)"
   ]
  },
  {
   "cell_type": "code",
   "execution_count": 7,
   "id": "84c55433-85fd-439e-afb6-e606ac22c251",
   "metadata": {},
   "outputs": [],
   "source": [
    "train_dataset_pretrained = datasets.ImageFolder(root='./data_deepdream_pretrained/train', transform=train_transform)\n",
    "test_dataset_pretrained = datasets.ImageFolder(root='./data_deepdream_pretrained/test', transform=test_transform)"
   ]
  },
  {
   "cell_type": "code",
   "execution_count": 8,
   "id": "3ef699a5-7b0d-47e9-98e6-14ac29cdad60",
   "metadata": {},
   "outputs": [],
   "source": [
    "train_dataloader = DataLoader(train_dataset_pretrained, batch_size=8, shuffle=True)\n",
    "test_dataloader = DataLoader(test_dataset_pretrained, batch_size=8, shuffle=True)"
   ]
  },
  {
   "cell_type": "code",
   "execution_count": 9,
   "id": "863d1d87-49bd-438f-9a97-dee14c835c7c",
   "metadata": {},
   "outputs": [],
   "source": [
    "def train_loop(dataloader, model, loss_fn, optimizer, device):\n",
    "    model.train()\n",
    "    for X, y in dataloader:\n",
    "        X, y = X.to(device), y.to(device)\n",
    "        preds = model(X)\n",
    "        if isinstance(preds, InceptionOutputs):\n",
    "            logits = preds.logits\n",
    "        else:\n",
    "            logits = preds\n",
    "            \n",
    "        loss = loss_fn(logits, y)\n",
    "\n",
    "        loss.backward()\n",
    "        optimizer.step()\n",
    "        optimizer.zero_grad()"
   ]
  },
  {
   "cell_type": "code",
   "execution_count": 10,
   "id": "0c37d87f-0f76-4168-b699-308f8f0ed380",
   "metadata": {},
   "outputs": [],
   "source": [
    "def test_loop(dataloader, model, loss_fn, device):\n",
    "    model.eval()\n",
    "    with torch.no_grad():\n",
    "        total_loss = 0\n",
    "        num_same = 0\n",
    "        all_preds = []\n",
    "        all_labels = []\n",
    "        for X, y in dataloader:\n",
    "            X, y = X.to(device), y.to(device)\n",
    "            outputs = model(X)\n",
    "            if isinstance(outputs, InceptionOutputs):\n",
    "                logits = outputs.logits\n",
    "            else:\n",
    "                logits = outputs\n",
    "            loss = loss_fn(logits, y)\n",
    "            total_loss += loss.item()\n",
    "\n",
    "            _, preds = torch.max(logits, 1)\n",
    "            num_same += (preds == y).sum().item()\n",
    "            all_preds.extend(preds.cpu().numpy())\n",
    "            all_labels.extend(y.cpu().numpy())\n",
    "        \n",
    "        print(f'Average loss: {total_loss / len(dataloader.dataset)}')\n",
    "        print(f'Accuracy: {num_same / len(dataloader.dataset)}')\n",
    "\n",
    "        return num_same / len(dataloader.dataset), all_labels, all_preds"
   ]
  },
  {
   "cell_type": "code",
   "execution_count": 17,
   "id": "549983a2-661f-4e0c-9d7b-32b411df1bf6",
   "metadata": {},
   "outputs": [],
   "source": [
    "class_weights = [0 for _ in range(1000)]\n",
    "class_weights[0] = 0.62\n",
    "class_weights[1] = 0.38\n",
    "class_weights = torch.tensor(class_weights).to(device)"
   ]
  },
  {
   "cell_type": "code",
   "execution_count": 18,
   "id": "a7f7e91e-0b7d-422a-a7c8-d5d1258cbaa9",
   "metadata": {},
   "outputs": [
    {
     "name": "stdout",
     "output_type": "stream",
     "text": [
      "Epoch 1/10\n",
      "Average loss: 0.08866688534617424\n",
      "Accuracy: 0.5\n",
      "Epoch 2/10\n",
      "Average loss: 0.08341653457283973\n",
      "Accuracy: 0.527\n",
      "Epoch 3/10\n",
      "Average loss: 0.08258479204773903\n",
      "Accuracy: 0.541\n",
      "Epoch 4/10\n",
      "Average loss: 0.0790632404088974\n",
      "Accuracy: 0.67\n",
      "Epoch 5/10\n",
      "Average loss: 0.08308817431330681\n",
      "Accuracy: 0.662\n",
      "Epoch 6/10\n",
      "Average loss: 0.08645311494171619\n",
      "Accuracy: 0.572\n",
      "Epoch 7/10\n",
      "Average loss: 0.07668103358149528\n",
      "Accuracy: 0.657\n",
      "Epoch 8/10\n",
      "Average loss: 0.06874202544987201\n",
      "Accuracy: 0.69\n",
      "Epoch 9/10\n",
      "Average loss: 0.06047038941830397\n",
      "Accuracy: 0.736\n",
      "Epoch 10/10\n",
      "Average loss: 0.2181974651515484\n",
      "Accuracy: 0.531\n",
      "Best Accuracy: 0.736\n"
     ]
    }
   ],
   "source": [
    "loss_fn = nn.CrossEntropyLoss(weight=class_weights)\n",
    "optimizer = optim.Adam(model.parameters())\n",
    "model.to(device)\n",
    "\n",
    "num_epochs = 10\n",
    "best_accuracy = 0.0\n",
    "best_labels = None\n",
    "best_preds = None\n",
    "\n",
    "for epoch in range(num_epochs):\n",
    "    print(f\"Epoch {epoch+1}/{num_epochs}\")\n",
    "    train_loop(train_dataloader, model, loss_fn, optimizer, device)\n",
    "    accuracy, all_labels, all_preds = test_loop(test_dataloader, model, loss_fn, device)\n",
    "    \n",
    "    if accuracy > best_accuracy:\n",
    "        best_accuracy = accuracy\n",
    "        best_labels = all_labels\n",
    "        best_preds = all_preds\n",
    "\n",
    "print(f'Best Accuracy: {best_accuracy}')"
   ]
  },
  {
   "cell_type": "code",
   "execution_count": 19,
   "id": "e898b3ca-f67d-4f27-a3de-c75c0561fc80",
   "metadata": {},
   "outputs": [
    {
     "data": {
      "image/png": "[encoded data removed]",
      "text/plain": [
       "<Figure size 500x400 with 2 Axes>"
      ]
     },
     "metadata": {},
     "output_type": "display_data"
    }
   ],
   "source": [
    "conf_matrix = confusion_matrix(best_labels, best_preds)\n",
    "plt.figure(figsize=(5, 4))\n",
    "sns.heatmap(conf_matrix, annot=True, fmt='d', cmap='Blues')\n",
    "plt.xlabel('Predicted')\n",
    "plt.ylabel('True')\n",
    "plt.title('Confusion Matrix')\n",
    "plt.show()"
   ]
  }
 ],
 "metadata": {
  "kernelspec": {
   "display_name": "Python 3 (ipykernel)",
   "language": "python",
   "name": "python3"
  },
  "language_info": {
   "codemirror_mode": {
    "name": "ipython",
    "version": 3
   },
   "file_extension": ".py",
   "mimetype": "text/x-python",
   "name": "python",
   "nbconvert_exporter": "python",
   "pygments_lexer": "ipython3",
   "version": "3.10.12"
  }
 },
 "nbformat": 4,
 "nbformat_minor": 5
}
